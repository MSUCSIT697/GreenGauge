{
 "cells": [
  {
   "cell_type": "markdown",
   "id": "d1a67377-8624-49bf-9df1-47f31e8bcc5e",
   "metadata": {},
   "source": [
    "## Libraries Installation"
   ]
  },
  {
   "cell_type": "code",
   "execution_count": 3,
   "id": "2b26527c-f6a0-4ddb-bb34-e4ee3e0c7ca1",
   "metadata": {},
   "outputs": [
    {
     "name": "stdout",
     "output_type": "stream",
     "text": [
      "Requirement already satisfied: pdfplumber in c:\\users\\javva\\anaconda3\\lib\\site-packages (0.11.4)\n",
      "Requirement already satisfied: pdfminer.six==20231228 in c:\\users\\javva\\anaconda3\\lib\\site-packages (from pdfplumber) (20231228)\n",
      "Requirement already satisfied: Pillow>=9.1 in c:\\users\\javva\\anaconda3\\lib\\site-packages (from pdfplumber) (10.2.0)\n",
      "Requirement already satisfied: pypdfium2>=4.18.0 in c:\\users\\javva\\anaconda3\\lib\\site-packages (from pdfplumber) (4.30.0)\n",
      "Requirement already satisfied: charset-normalizer>=2.0.0 in c:\\users\\javva\\anaconda3\\lib\\site-packages (from pdfminer.six==20231228->pdfplumber) (2.0.4)\n",
      "Requirement already satisfied: cryptography>=36.0.0 in c:\\users\\javva\\anaconda3\\lib\\site-packages (from pdfminer.six==20231228->pdfplumber) (42.0.2)\n",
      "Requirement already satisfied: cffi>=1.12 in c:\\users\\javva\\anaconda3\\lib\\site-packages (from cryptography>=36.0.0->pdfminer.six==20231228->pdfplumber) (1.16.0)\n",
      "Requirement already satisfied: pycparser in c:\\users\\javva\\anaconda3\\lib\\site-packages (from cffi>=1.12->cryptography>=36.0.0->pdfminer.six==20231228->pdfplumber) (2.21)\n"
     ]
    }
   ],
   "source": [
    "!pip install pdfplumber\n"
   ]
  },
  {
   "cell_type": "code",
   "execution_count": 18,
   "id": "5060c0bb-e0ff-44a0-b996-e026590c7fc7",
   "metadata": {},
   "outputs": [
    {
     "name": "stdout",
     "output_type": "stream",
     "text": [
      "Requirement already satisfied: pytesseract in c:\\users\\javva\\anaconda3\\lib\\site-packages (0.3.13)\n",
      "Requirement already satisfied: Pillow in c:\\users\\javva\\anaconda3\\lib\\site-packages (10.2.0)\n",
      "Requirement already satisfied: pdfplumber in c:\\users\\javva\\anaconda3\\lib\\site-packages (0.11.4)\n",
      "Requirement already satisfied: packaging>=21.3 in c:\\users\\javva\\anaconda3\\lib\\site-packages (from pytesseract) (23.1)\n",
      "Requirement already satisfied: pdfminer.six==20231228 in c:\\users\\javva\\anaconda3\\lib\\site-packages (from pdfplumber) (20231228)\n",
      "Requirement already satisfied: pypdfium2>=4.18.0 in c:\\users\\javva\\anaconda3\\lib\\site-packages (from pdfplumber) (4.30.0)\n",
      "Requirement already satisfied: charset-normalizer>=2.0.0 in c:\\users\\javva\\anaconda3\\lib\\site-packages (from pdfminer.six==20231228->pdfplumber) (2.0.4)\n",
      "Requirement already satisfied: cryptography>=36.0.0 in c:\\users\\javva\\anaconda3\\lib\\site-packages (from pdfminer.six==20231228->pdfplumber) (42.0.2)\n",
      "Requirement already satisfied: cffi>=1.12 in c:\\users\\javva\\anaconda3\\lib\\site-packages (from cryptography>=36.0.0->pdfminer.six==20231228->pdfplumber) (1.16.0)\n",
      "Requirement already satisfied: pycparser in c:\\users\\javva\\anaconda3\\lib\\site-packages (from cffi>=1.12->cryptography>=36.0.0->pdfminer.six==20231228->pdfplumber) (2.21)\n",
      "Note: you may need to restart the kernel to use updated packages.\n"
     ]
    }
   ],
   "source": [
    "pip install pytesseract Pillow pdfplumber\n"
   ]
  },
  {
   "cell_type": "code",
   "execution_count": 30,
   "id": "8884adef-f82e-430b-bab5-24efb7d60086",
   "metadata": {},
   "outputs": [],
   "source": [
    "import re\n",
    "import pandas as pd"
   ]
  },
  {
   "cell_type": "markdown",
   "id": "8a2b7219-8266-4dd2-aae3-89ea767bd15c",
   "metadata": {},
   "source": [
    "## PDF processing\n",
    "## Extracting text using :\n",
    "### *pdfplumber for text-based PDFs.\n",
    "### *Tesseract OCR for scanned image-based PDFs."
   ]
  },
  {
   "cell_type": "code",
   "execution_count": 20,
   "id": "5bd47658-2109-4ba7-a37a-91db396f4a73",
   "metadata": {},
   "outputs": [
    {
     "name": "stdout",
     "output_type": "stream",
     "text": [
      "Dummy Bank Statement\n",
      "Bank Name: People's Trust Bank\n",
      "Customer Name: John A. Doe\n",
      "Account Number: 123-456-789\n",
      "Statement Period: July 1, 2023 - July 31, 2023\n",
      "Address: 123 Maple Street, Anytown, AT 12345\n",
      "Account Summary\n",
      "Opening Balance: $5,000.00\n",
      "Closing Balance: $4,250.00\n",
      "Transactions\n",
      "Date Description Withdrawals Deposits Balance\n",
      "07/01/2023 Opening Balance - - $5,000.00\n",
      "07/02/2023 Electric Bill Payment $250.00 - $4,750.00\n",
      "07/05/2023 Grocery Store $150.00 - $4,600.00\n",
      "07/08/2023 Salary Deposit - $1,000.00 $5,600.00\n",
      "07/12/2023 Online Shopping - Z-Mart $100.00 - $5,500.00\n",
      "07/15/2023 Cash Withdrawal - ATM $200.00 - $5,300.00\n",
      "Copyright @ SampleTemplates.com2\n",
      "07/18/2023 Car Insurance Premium $350.00 - $4,950.00\n",
      "07/22/2023 Coffee Shop $20.00 - $4,930.00\n",
      "07/25/2023 Gas Station $50.00 - $4,880.00\n",
      "07/28/2023 Water Bill Payment $300.00 - $4,580.00\n",
      "07/30/2023 Gym Membership Fee $80.00 - $4,500.00\n",
      "Movie Streaming Service\n",
      "07/31/2023 $50.00 - $4,450.00\n",
      "Subscription\n",
      "07/31/2023 Monthly Maintenance Fee $200.00 - $4,250.00\n",
      "Fees & Charges\n",
      "● Monthly Maintenance Fee: $200.00\n",
      "● ATM Withdrawal Fee (non-network): Included in transactions\n",
      "Notes:\n",
      "● Keep your bank statement for your records.\n",
      "● Review your statement regularly to monitor your account activity.\n",
      "● Contact People's Trust Bank immediately if you notice any unauthorized\n",
      "transactions.\n",
      "Copyright @ SampleTemplates.com\n"
     ]
    }
   ],
   "source": [
    "import pdfplumber\n",
    "import pytesseract\n",
    "from PIL import Image\n",
    "\n",
    "pdf_path = \"C://Users//javva//OneDrive//Documents//Dummy-Bank-Statement.pdf\"\n",
    "\n",
    "def extract_text_from_pdf(pdf_path):\n",
    "    all_text = \"\"\n",
    "    \n",
    "    with pdfplumber.open(pdf_path) as pdf:\n",
    "        for page in pdf.pages:\n",
    "            # Check if the page has any text\n",
    "            text = page.extract_text()\n",
    "            \n",
    "            if text:  # If the page contains text, use it\n",
    "                all_text += text\n",
    "            else:\n",
    "                # If no text is found, apply OCR to the image of the page\n",
    "                print(\"OCR applied to page\")\n",
    "                image = page.to_image()\n",
    "                ocr_text = pytesseract.image_to_string(image.original)  # Use OCR on the image\n",
    "                all_text += ocr_text\n",
    "                \n",
    "    return all_text\n",
    "\n",
    "# Extract text from PDF (including OCR if needed)\n",
    "extracted_text = extract_text_from_pdf(pdf_path)\n",
    "\n",
    "# Print the extracted text to verify\n",
    "print(extracted_text) # Print the first 500 characters to inspect the result\n"
   ]
  },
  {
   "cell_type": "markdown",
   "id": "85be7300-31fe-49a5-a8ba-8e0128ae7576",
   "metadata": {},
   "source": [
    "# Data Preprocessing"
   ]
  },
  {
   "cell_type": "markdown",
   "id": "40b0b2dc-4427-4d13-bb9c-b1306a139324",
   "metadata": {},
   "source": [
    "## Filtering out transaction lines from the extracted text based on date pattern"
   ]
  },
  {
   "cell_type": "code",
   "execution_count": 23,
   "id": "c17d3155-07d0-4557-8a17-261439fc92da",
   "metadata": {},
   "outputs": [
    {
     "name": "stdout",
     "output_type": "stream",
     "text": [
      "Filtered Transaction Lines:\n",
      "07/01/2023 Opening Balance - - $5,000.00\n",
      "07/02/2023 Electric Bill Payment $250.00 - $4,750.00\n",
      "07/05/2023 Grocery Store $150.00 - $4,600.00\n",
      "07/08/2023 Salary Deposit - $1,000.00 $5,600.00\n",
      "07/12/2023 Online Shopping - Z-Mart $100.00 - $5,500.00\n",
      "07/15/2023 Cash Withdrawal - ATM $200.00 - $5,300.00\n",
      "07/18/2023 Car Insurance Premium $350.00 - $4,950.00\n",
      "07/22/2023 Coffee Shop $20.00 - $4,930.00\n",
      "07/25/2023 Gas Station $50.00 - $4,880.00\n",
      "07/28/2023 Water Bill Payment $300.00 - $4,580.00\n",
      "07/30/2023 Gym Membership Fee $80.00 - $4,500.00\n",
      "07/31/2023 $50.00 - $4,450.00\n",
      "07/31/2023 Monthly Maintenance Fee $200.00 - $4,250.00\n"
     ]
    }
   ],
   "source": [
    "# Extract only transaction lines\n",
    "transaction_lines = []\n",
    "for line in all_text.split('\\n'):\n",
    "    if re.match(r\"^\\d{2}/\\d{2}/\\d{4}\", line):\n",
    "        transaction_lines.append(line)\n",
    "\n",
    "print(\"Filtered Transaction Lines:\")\n",
    "for line in transaction_lines:\n",
    "    print(line)\n",
    "\n",
    "transaction_text = \"\\n\".join(transaction_lines)"
   ]
  },
  {
   "cell_type": "markdown",
   "id": "f7d8e94b-5322-48e8-80b4-a5af201c1f79",
   "metadata": {},
   "source": [
    "## Defining a regular expression (regex) to extract transaction details "
   ]
  },
  {
   "cell_type": "code",
   "execution_count": 28,
   "id": "3685d6dc-5453-43e6-be5f-a193e599b5a5",
   "metadata": {},
   "outputs": [
    {
     "name": "stdout",
     "output_type": "stream",
     "text": [
      "Matches found: [('07/01/2023', 'Opening Balance -', '', '', '5,000.00'), ('07/02/2023', 'Electric Bill Payment', '250.00', '', '4,750.00'), ('07/05/2023', 'Grocery Store', '150.00', '', '4,600.00'), ('07/08/2023', 'Salary Deposit', '', '', '1,000.00'), ('07/12/2023', 'Online Shopping - Z-Mart', '100.00', '', '5,500.00'), ('07/15/2023', 'Cash Withdrawal - ATM', '200.00', '', '5,300.00'), ('07/18/2023', 'Car Insurance Premium', '350.00', '', '4,950.00'), ('07/22/2023', 'Coffee Shop', '20.00', '', '4,930.00'), ('07/25/2023', 'Gas Station', '50.00', '', '4,880.00'), ('07/28/2023', 'Water Bill Payment', '300.00', '', '4,580.00'), ('07/30/2023', 'Gym Membership Fee', '80.00', '', '4,500.00'), ('07/31/2023', '$50.00', '', '', '4,450.00'), ('07/31/2023', 'Monthly Maintenance Fee', '200.00', '', '4,250.00')]\n"
     ]
    }
   ],
   "source": [
    "# Define a refined regex pattern to extract transactions\n",
    "pattern = r\"(\\d{2}/\\d{2}/\\d{4}|\\d{2}-\\d{2}-\\d{4}|\\d{4}/\\d{2}/\\d{2})\\s+(.+?)\\s+\\$?(\\d{1,3}(?:,\\d{3})*(?:\\.\\d{2})?)?\\s*-?\\$?(\\d{1,3}(?:,\\d{3})*(?:\\.\\d{2})?)?\\s+\\$?(\\d{1,3}(?:,\\d{3})*(?:\\.\\d{2})?)\"\n",
    "\n",
    "matches = re.findall(pattern, transaction_text)\n",
    "print(\"Matches found:\", matches)  # Debugging line to check matches"
   ]
  },
  {
   "cell_type": "markdown",
   "id": "f01c27ab-1fc9-4320-8962-9aa9178d71c3",
   "metadata": {},
   "source": [
    "## Matching data extracted from the regex and organizes them into a list of dictionaries"
   ]
  },
  {
   "cell_type": "code",
   "execution_count": 25,
   "id": "993a1748-0a38-45da-b467-eaa8179da0c8",
   "metadata": {},
   "outputs": [
    {
     "name": "stdout",
     "output_type": "stream",
     "text": [
      "Extracted transactions:\n",
      "{'date': '07/02/2023', 'description': 'Electric Bill Payment', 'amount': 250.0, 'balance': 4750.0}\n",
      "{'date': '07/05/2023', 'description': 'Grocery Store', 'amount': 150.0, 'balance': 4600.0}\n",
      "{'date': '07/12/2023', 'description': 'Online Shopping - Z-Mart', 'amount': 100.0, 'balance': 5500.0}\n",
      "{'date': '07/15/2023', 'description': 'Cash Withdrawal - ATM', 'amount': 200.0, 'balance': 5300.0}\n",
      "{'date': '07/18/2023', 'description': 'Car Insurance Premium', 'amount': 350.0, 'balance': 4950.0}\n",
      "{'date': '07/22/2023', 'description': 'Coffee Shop', 'amount': 20.0, 'balance': 4930.0}\n",
      "{'date': '07/25/2023', 'description': 'Gas Station', 'amount': 50.0, 'balance': 4880.0}\n",
      "{'date': '07/28/2023', 'description': 'Water Bill Payment', 'amount': 300.0, 'balance': 4580.0}\n",
      "{'date': '07/30/2023', 'description': 'Gym Membership Fee', 'amount': 80.0, 'balance': 4500.0}\n",
      "{'date': '07/31/2023', 'description': 'Monthly Maintenance Fee', 'amount': 200.0, 'balance': 4250.0}\n"
     ]
    }
   ],
   "source": [
    "# Convert matches to a list of dictionaries\n",
    "transactions = []\n",
    "for match in matches:\n",
    "    date, description, withdrawal, deposit, balance = match\n",
    "    amount = float(withdrawal.replace(',', '')) if withdrawal else -float(deposit.replace(',', ''))\n",
    "    transactions.append({\n",
    "        \"date\": date,\n",
    "        \"description\": description.strip(),\n",
    "        \"amount\": amount,\n",
    "        \"balance\": float(balance.replace(',', ''))\n",
    "    })\n",
    "\n",
    "print(\"Extracted transactions:\")\n",
    "for transaction in transactions:\n",
    "    print(transaction)"
   ]
  },
  {
   "cell_type": "markdown",
   "id": "42d09c27-9351-4327-bfde-f32778b5fcd9",
   "metadata": {},
   "source": [
    " # Categorizing Text\n",
    " ##  Categorizing transaction descriptions into predefined categories and then storing the results in a DataFrame"
   ]
  },
  {
   "cell_type": "code",
   "execution_count": 34,
   "id": "3e214348-70ff-4d11-a041-7ec8eeffc4cc",
   "metadata": {},
   "outputs": [
    {
     "name": "stdout",
     "output_type": "stream",
     "text": [
      "Categorized Transactions:\n",
      "{'date': '07/02/2023', 'description': 'Electric Bill Payment', 'amount': 250.0, 'balance': 4750.0, 'category': 'Utilities'}\n",
      "{'date': '07/05/2023', 'description': 'Grocery Store', 'amount': 150.0, 'balance': 4600.0, 'category': 'Food'}\n",
      "{'date': '07/12/2023', 'description': 'Online Shopping - Z-Mart', 'amount': 100.0, 'balance': 5500.0, 'category': 'Other'}\n",
      "{'date': '07/15/2023', 'description': 'Cash Withdrawal - ATM', 'amount': 200.0, 'balance': 5300.0, 'category': 'Payment'}\n",
      "{'date': '07/18/2023', 'description': 'Car Insurance Premium', 'amount': 350.0, 'balance': 4950.0, 'category': 'Utilities'}\n",
      "{'date': '07/22/2023', 'description': 'Coffee Shop', 'amount': 20.0, 'balance': 4930.0, 'category': 'Food'}\n",
      "{'date': '07/25/2023', 'description': 'Gas Station', 'amount': 50.0, 'balance': 4880.0, 'category': 'Travel'}\n",
      "{'date': '07/28/2023', 'description': 'Water Bill Payment', 'amount': 300.0, 'balance': 4580.0, 'category': 'Utilities'}\n",
      "{'date': '07/30/2023', 'description': 'Gym Membership Fee', 'amount': 80.0, 'balance': 4500.0, 'category': 'Other'}\n",
      "{'date': '07/31/2023', 'description': 'Monthly Maintenance Fee', 'amount': 200.0, 'balance': 4250.0, 'category': 'Payment'}\n",
      "DataFrame:\n",
      "         date               description  amount  balance   category\n",
      "0  07/02/2023     Electric Bill Payment   250.0   4750.0  Utilities\n",
      "1  07/05/2023             Grocery Store   150.0   4600.0       Food\n",
      "2  07/12/2023  Online Shopping - Z-Mart   100.0   5500.0      Other\n",
      "3  07/15/2023     Cash Withdrawal - ATM   200.0   5300.0    Payment\n",
      "4  07/18/2023     Car Insurance Premium   350.0   4950.0  Utilities\n",
      "5  07/22/2023               Coffee Shop    20.0   4930.0       Food\n",
      "6  07/25/2023               Gas Station    50.0   4880.0     Travel\n",
      "7  07/28/2023        Water Bill Payment   300.0   4580.0  Utilities\n",
      "8  07/30/2023        Gym Membership Fee    80.0   4500.0      Other\n",
      "9  07/31/2023   Monthly Maintenance Fee   200.0   4250.0    Payment\n"
     ]
    }
   ],
   "source": [
    "# Define categories and keywords\n",
    "categories = {\n",
    "    \"Food\": [\"grocery\", \"coffee\", \"restaurant\"],\n",
    "    \"Travel\": [\"uber\", \"lyft\", \"bus\", \"trip\", \"gas station\"],\n",
    "    \"Utilities\": [\"electric\", \"water\", \"insurance\"],\n",
    "    \"Subscription\": [\"salary\", \"streaming\"],\n",
    "    \"Payment\": [\"maintenance\", \"atm\"]\n",
    "}\n",
    "\n",
    "# Function to categorize a transaction\n",
    "def categorize_transaction(description):\n",
    "    for category, keywords in categories.items():\n",
    "        if any(keyword in description.lower() for keyword in keywords):\n",
    "            return category\n",
    "    return \"Other\"\n",
    "    \n",
    "# Categorize transactions\n",
    "for transaction in transactions:\n",
    "    transaction[\"category\"] = categorize_transaction(transaction[\"description\"])\n",
    "\n",
    "# Convert to DataFrame for better handling\n",
    "df = pd.DataFrame(transactions)\n",
    "print(\"DataFrame:\")\n",
    "print(df)  # Debugging line to check DataFrame"
   ]
  },
  {
   "cell_type": "markdown",
   "id": "788c2062-edc0-4fe5-9932-e005ef1dcf3c",
   "metadata": {},
   "source": [
    "## Grouping the transactions by their category and then calculating the total amount for each category"
   ]
  },
  {
   "cell_type": "code",
   "execution_count": 35,
   "id": "95a0fa93-3894-4376-b3cb-24c2424c0d9b",
   "metadata": {},
   "outputs": [
    {
     "name": "stdout",
     "output_type": "stream",
     "text": [
      "Grouped totals:\n",
      "category\n",
      "Food         170.0\n",
      "Other        180.0\n",
      "Payment      400.0\n",
      "Travel        50.0\n",
      "Utilities    900.0\n",
      "Name: amount, dtype: float64\n"
     ]
    }
   ],
   "source": [
    "# Group by category and calculate the sum of amounts\n",
    "if not df.empty:\n",
    "    grouped = df.groupby(\"category\").sum(numeric_only=True)[\"amount\"]\n",
    "    print(\"Grouped totals:\")\n",
    "    print(grouped)  # Debugging line to check grouped totals\n",
    "else:\n",
    "    print(\"No transactions found.\")"
   ]
  },
  {
   "cell_type": "markdown",
   "id": "943ca84c-1938-4eca-b3b5-81bf367dea67",
   "metadata": {},
   "source": [
    "## print the categories for reference"
   ]
  },
  {
   "cell_type": "code",
   "execution_count": 6,
   "id": "a42847aa-f999-4ed6-b8c2-5a412a4a5d72",
   "metadata": {},
   "outputs": [],
   "source": [
    "from fpdf import FPDF, XPos, YPos\n",
    "\n",
    "# Create a PDF class\n",
    "class PDF(FPDF):\n",
    "    def header(self):\n",
    "        self.set_font('Helvetica', 'B', 12)\n",
    "        self.cell(0, 10, 'Categorized Transactions', 0, new_x=XPos.LMARGIN, new_y=YPos.NEXT, align='C')\n",
    "\n",
    "    def footer(self):\n",
    "        self.set_y(-15)\n",
    "        self.set_font('Helvetica', 'I', 8)\n",
    "        self.cell(0, 10, f'Page {self.page_no()}', 0, new_x=XPos.RIGHT, new_y=YPos.TOP, align='C')\n",
    "\n",
    "    def chapter_title(self, category):\n",
    "        self.set_font('Helvetica', 'B', 12)\n",
    "        self.cell(0, 10, category, 0, new_x=XPos.LMARGIN, new_y=YPos.NEXT, align='L')\n",
    "        self.ln(10)\n",
    "\n",
    "    def chapter_body(self, transactions):\n",
    "        self.set_font('Helvetica', '', 12)\n",
    "        for transaction in transactions:\n",
    "            self.cell(0, 10, f\"{transaction['date']} {transaction['description']} {transaction['amount']:.2f}\", 0, new_x=XPos.LMARGIN, new_y=YPos.NEXT)\n",
    "\n",
    "# Create the PDF object\n",
    "pdf = PDF()\n",
    "pdf.add_page()\n",
    "\n",
    "# Add categorized transactions\n",
    "grouped_transactions = df.groupby(\"category\")\n",
    "for category, group in grouped_transactions:\n",
    "    pdf.chapter_title(category)\n",
    "    pdf.chapter_body(group.to_dict(orient='records'))\n",
    "\n",
    "# Save the PDF\n",
    "pdf.output(\"categorized_transactions.pdf\")\n"
   ]
  }
 ],
 "metadata": {
  "kernelspec": {
   "display_name": "Python 3 (ipykernel)",
   "language": "python",
   "name": "python3"
  },
  "language_info": {
   "codemirror_mode": {
    "name": "ipython",
    "version": 3
   },
   "file_extension": ".py",
   "mimetype": "text/x-python",
   "name": "python",
   "nbconvert_exporter": "python",
   "pygments_lexer": "ipython3",
   "version": "3.11.7"
  }
 },
 "nbformat": 4,
 "nbformat_minor": 5
}
